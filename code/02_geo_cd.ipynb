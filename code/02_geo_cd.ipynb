{
 "cells": [
  {
   "cell_type": "code",
   "execution_count": 7,
   "metadata": {},
   "outputs": [],
   "source": [
    "import pandas as pd\n",
    "import geopandas as gpd\n",
    "import requests, zipfile, io"
   ]
  },
  {
   "cell_type": "code",
   "execution_count": 43,
   "metadata": {},
   "outputs": [],
   "source": [
    "# use the csv created from 01_geocode.ipynb\n",
    "df_geo = pd.read_csv('../data/output/df_geo.csv')"
   ]
  },
  {
   "cell_type": "code",
   "execution_count": 45,
   "metadata": {},
   "outputs": [],
   "source": [
    "# convert it to a geodataframe for spatial join with council districts\n",
    "df_gpd = gpd.GeoDataFrame(\n",
    "    df_geo, geometry=gpd.points_from_xy(df_geo['lon'], df_geo['lat']), crs=\"EPSG:4326\")"
   ]
  },
  {
   "cell_type": "code",
   "execution_count": 46,
   "metadata": {},
   "outputs": [],
   "source": [
    "# get the council district boundaries release 23b from \n",
    "# https://www.nyc.gov/site/planning/data-maps/open-data/bytes-archive.page\n",
    "url = 'https://s-media.nyc.gov/agencies/dcp/assets/files/zip/data-tools/bytes/nycc_23b.zip'\n",
    "r = requests.get(url)\n",
    "z = zipfile.ZipFile(io.BytesIO(r.content))\n",
    "z.extractall('../data/input/')\n",
    "\n",
    "cd = gpd.read_file('../data/input/nycc_23b/nycc.shp').to_crs('EPSG:4326')"
   ]
  },
  {
   "cell_type": "code",
   "execution_count": 47,
   "metadata": {},
   "outputs": [],
   "source": [
    "# make sure crs matches\n",
    "cd.crs = df_gpd.crs"
   ]
  },
  {
   "cell_type": "code",
   "execution_count": 48,
   "metadata": {},
   "outputs": [],
   "source": [
    "# join the data from csv with the council district boundaries \n",
    "geo_cd = df_gpd.sjoin(cd, how = 'left', predicate = 'intersects')"
   ]
  },
  {
   "cell_type": "code",
   "execution_count": null,
   "metadata": {},
   "outputs": [],
   "source": [
    "# assign cd values to column 'New Council District'\n",
    "geo_cd['New Council District'] = geo_cd['CounDist']"
   ]
  },
  {
   "cell_type": "code",
   "execution_count": 56,
   "metadata": {},
   "outputs": [],
   "source": [
    "# write to csv the new data with relevant columns\n",
    "(pd.DataFrame(geo_cd)\n",
    ".drop(columns=['geoclient', 'geometry', 'index_right', 'Shape_Leng', 'Shape_Area', 'CounDist'])\n",
    ".to_csv('../data/output/geo_cd.csv', index=False))"
   ]
  }
 ],
 "metadata": {
  "kernelspec": {
   "display_name": "Python 3",
   "language": "python",
   "name": "python3"
  },
  "language_info": {
   "codemirror_mode": {
    "name": "ipython",
    "version": 3
   },
   "file_extension": ".py",
   "mimetype": "text/x-python",
   "name": "python",
   "nbconvert_exporter": "python",
   "pygments_lexer": "ipython3",
   "version": "3.9.6"
  }
 },
 "nbformat": 4,
 "nbformat_minor": 2
}
