{
 "cells": [
  {
   "cell_type": "code",
   "execution_count": 1,
   "metadata": {},
   "outputs": [],
   "source": [
    "import pandas as pd\n",
    "import urllib.request, json\n",
    "import logging"
   ]
  },
  {
   "cell_type": "code",
   "execution_count": 3,
   "metadata": {},
   "outputs": [],
   "source": [
    "logging.basicConfig(filename='../data/log/oac_geo.log', filemode='w', level=logging.DEBUG, format='%(asctime)s %(message)s')"
   ]
  },
  {
   "cell_type": "code",
   "execution_count": 3,
   "metadata": {},
   "outputs": [],
   "source": [
    "df = pd.read_excel('../data/input/FY24 Older Adult Centers (11-20-23).xlsx', sheet_name='SC List by CMs 8a')"
   ]
  },
  {
   "cell_type": "code",
   "execution_count": 14,
   "metadata": {},
   "outputs": [],
   "source": [
    "df['geoclient'] = (df['Program Address'] + \", \" + df['Borough'] + \", \" + df['Zip Code'].astype(str))"
   ]
  },
  {
   "cell_type": "code",
   "execution_count": 16,
   "metadata": {},
   "outputs": [],
   "source": [
    "def json_get(url, row):\n",
    "    try: \n",
    "        hdr ={\n",
    "        # Request headers\n",
    "        'Cache-Control': 'no-cache',\n",
    "        'Ocp-Apim-Subscription-Key': '2fc22446e7af4d4eaa50d383ad846872',\n",
    "        }\n",
    "\n",
    "        req = urllib.request.Request(url, headers=hdr)\n",
    "\n",
    "        req.get_method = lambda: 'GET'\n",
    "        response = urllib.request.urlopen(req)\n",
    "        logging.info(f'{row.Index}: {response.getcode()}')\n",
    "        json_data = json.loads(response.read())\n",
    "    except Exception as e:\n",
    "        logging.info(e)\n",
    "        json_data = {}\n",
    "    return json_data"
   ]
  },
  {
   "cell_type": "code",
   "execution_count": 23,
   "metadata": {},
   "outputs": [],
   "source": [
    "def get_lat_lon(df):\n",
    "    lat = []\n",
    "    lon = []\n",
    "    for row in df.itertuples():\n",
    "        ### figure out which request type and url to use\n",
    "        # if cross_street_name exists, use that\n",
    "        type = \"search\"\n",
    "        url = f'https://api.nyc.gov/geo/geoclient/v1/search.json?input={row.geoclient}'\n",
    "        json_data = json_get(url, row)\n",
    "\n",
    "        ### depending on the request type, json will have different fields\n",
    "        try:\n",
    "            lat.append(json_data['results'][0]['response']['latitude'])\n",
    "            lon.append(json_data['results'][0]['response']['longitude'])\n",
    "        except Exception as e:\n",
    "            #logging.info(e.args)\n",
    "            try:\n",
    "                message = json_data['status']\n",
    "                logging.info(f'{row.Index}: {message}')\n",
    "            except Exception as e:\n",
    "                logging.info(f'{row.Index}: {e}')\n",
    "            lat.append('NA')\n",
    "            lon.append('NA')\n",
    "    return lat, lon"
   ]
  },
  {
   "cell_type": "code",
   "execution_count": 36,
   "metadata": {},
   "outputs": [],
   "source": [
    "df['geoclient'] = df['geoclient'].replace(' ', '%20', regex=True)\n",
    "df['geoclient'] = df['geoclient'].replace('\\n', '%20', regex=True)"
   ]
  },
  {
   "cell_type": "code",
   "execution_count": 37,
   "metadata": {},
   "outputs": [],
   "source": [
    "df['lat'], df['lon'] = get_lat_lon(df)"
   ]
  },
  {
   "cell_type": "code",
   "execution_count": 38,
   "metadata": {},
   "outputs": [],
   "source": [
    "df.to_csv('../data/output/df_geo.csv', index=False)"
   ]
  },
  {
   "cell_type": "code",
   "execution_count": null,
   "metadata": {},
   "outputs": [],
   "source": []
  }
 ],
 "metadata": {
  "kernelspec": {
   "display_name": "Python 3",
   "language": "python",
   "name": "python3"
  },
  "language_info": {
   "codemirror_mode": {
    "name": "ipython",
    "version": 3
   },
   "file_extension": ".py",
   "mimetype": "text/x-python",
   "name": "python",
   "nbconvert_exporter": "python",
   "pygments_lexer": "ipython3",
   "version": "3.8.2"
  }
 },
 "nbformat": 4,
 "nbformat_minor": 2
}
