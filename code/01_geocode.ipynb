{
 "cells": [
  {
   "cell_type": "code",
   "execution_count": 1,
   "metadata": {},
   "outputs": [],
   "source": [
    "import pandas as pd\n",
    "import urllib.request, json\n",
    "import logging"
   ]
  },
  {
   "cell_type": "code",
   "execution_count": 3,
   "metadata": {},
   "outputs": [],
   "source": [
    "# set up logging to monitor errors\n",
    "logging.basicConfig(filename='../data/log/oac_geo.log', filemode='w', level=logging.DEBUG, format='%(asctime)s %(message)s')"
   ]
  },
  {
   "cell_type": "code",
   "execution_count": 3,
   "metadata": {},
   "outputs": [],
   "source": [
    "# read in the excel file and specify sheet name\n",
    "# change this to the new excel file name and sheet\n",
    "df = pd.read_excel('../data/input/FY24 Older Adult Centers (11-20-23).xlsx', sheet_name='SC List by CMs 8a')"
   ]
  },
  {
   "cell_type": "code",
   "execution_count": 14,
   "metadata": {},
   "outputs": [],
   "source": [
    "# create 'geoclient' column that will be sent to the api\n",
    "# see: https://api.nyc.gov/geoclient/v1/doc/#section-1.3\n",
    "df['geoclient'] = (df['Program Address'] + \", \" + df['Borough'] + \", \" + df['Zip Code'].astype(str))"
   ]
  },
  {
   "cell_type": "code",
   "execution_count": 16,
   "metadata": {},
   "outputs": [],
   "source": [
    "# function to get the json data from the api\n",
    "def json_get(url, row):\n",
    "    try: \n",
    "        hdr ={\n",
    "        # Request headers\n",
    "        'Cache-Control': 'no-cache',\n",
    "        # if you sign up for an account (https://api-portal.nyc.gov/) you can get a new subscription key and replace that here:\n",
    "        'Ocp-Apim-Subscription-Key': '2fc22446e7af4d4eaa50d383ad846872',\n",
    "        }\n",
    "\n",
    "        req = urllib.request.Request(url, headers=hdr)\n",
    "\n",
    "        req.get_method = lambda: 'GET'\n",
    "        response = urllib.request.urlopen(req)\n",
    "        logging.info(f'{row.Index}: {response.getcode()}')\n",
    "        json_data = json.loads(response.read())\n",
    "    except Exception as e:\n",
    "        logging.info(e)\n",
    "        json_data = {}\n",
    "    return json_data"
   ]
  },
  {
   "cell_type": "code",
   "execution_count": 23,
   "metadata": {},
   "outputs": [],
   "source": [
    "# function to get the lat/lon from the json data\n",
    "def get_lat_lon(df):\n",
    "    lat = []\n",
    "    lon = []\n",
    "    for row in df.itertuples():\n",
    "        type = \"search\"\n",
    "        url = f'https://api.nyc.gov/geo/geoclient/v1/search.json?input={row.geoclient}'\n",
    "        json_data = json_get(url, row)\n",
    "\n",
    "        try:\n",
    "            lat.append(json_data['results'][0]['response']['latitude'])\n",
    "            lon.append(json_data['results'][0]['response']['longitude'])\n",
    "        except Exception as e:\n",
    "            #logging.info(e.args)\n",
    "            try:\n",
    "                message = json_data['status']\n",
    "                logging.info(f'{row.Index}: {message}')\n",
    "            except Exception as e:\n",
    "                logging.info(f'{row.Index}: {e}')\n",
    "            lat.append('NA')\n",
    "            lon.append('NA')\n",
    "    return lat, lon"
   ]
  },
  {
   "cell_type": "code",
   "execution_count": 36,
   "metadata": {},
   "outputs": [],
   "source": [
    "# replace spaces and new line with URL encoding for spaces\n",
    "df['geoclient'] = df['geoclient'].replace(' ', '%20', regex=True)\n",
    "df['geoclient'] = df['geoclient'].replace('\\n', '%20', regex=True)"
   ]
  },
  {
   "cell_type": "code",
   "execution_count": 37,
   "metadata": {},
   "outputs": [],
   "source": [
    "# run the function to get the lat/lon from geoclient api\n",
    "df['lat'], df['lon'] = get_lat_lon(df)"
   ]
  },
  {
   "cell_type": "code",
   "execution_count": 38,
   "metadata": {},
   "outputs": [],
   "source": [
    "# save the csv to data/output folder\n",
    "df.to_csv('../data/output/df_geo.csv', index=False)"
   ]
  }
 ],
 "metadata": {
  "kernelspec": {
   "display_name": "Python 3",
   "language": "python",
   "name": "python3"
  },
  "language_info": {
   "codemirror_mode": {
    "name": "ipython",
    "version": 3
   },
   "file_extension": ".py",
   "mimetype": "text/x-python",
   "name": "python",
   "nbconvert_exporter": "python",
   "pygments_lexer": "ipython3",
   "version": "3.9.6"
  }
 },
 "nbformat": 4,
 "nbformat_minor": 2
}
